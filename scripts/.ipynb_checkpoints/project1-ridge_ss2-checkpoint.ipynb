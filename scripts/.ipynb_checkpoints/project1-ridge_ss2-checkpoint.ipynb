{
 "cells": [
  {
   "cell_type": "code",
   "execution_count": 1,
   "metadata": {},
   "outputs": [],
   "source": [
    "# Useful starting lines\n",
    "%matplotlib inline\n",
    "import numpy as np\n",
    "import matplotlib.pyplot as plt\n",
    "from datetime import datetime\n",
    "from proj1_helpers import *\n",
    "from implementations import * \n",
    "import os\n",
    "%load_ext autoreload\n",
    "%autoreload 2"
   ]
  },
  {
   "cell_type": "code",
   "execution_count": 2,
   "metadata": {},
   "outputs": [],
   "source": [
    "DATA_TRAIN_PATH = os.path.dirname(os.getcwd()) + '/data/train.csv'\n",
    "y, tX, ids = load_csv_data(DATA_TRAIN_PATH) # labels/predictions, id of each sample, tX - 30 features of each sample (float)\n",
    "labels_feature = np.genfromtxt(DATA_TRAIN_PATH, delimiter=\",\", dtype=str, max_rows=1)[2:]"
   ]
  },
  {
   "cell_type": "code",
   "execution_count": 3,
   "metadata": {
    "scrolled": true
   },
   "outputs": [
    {
     "name": "stdout",
     "output_type": "stream",
     "text": [
      "Subset 0 contains 99913 samples \n",
      "Subset 1 contains 77544 samples \n",
      "Subset 2 contains 50379 samples \n",
      "Subset 3 contains 22164 samples \n",
      "Remaining features for subset 2, 3: ['DER_mass_MMC' 'DER_mass_transverse_met_lep' 'DER_mass_vis' 'DER_pt_h'\n",
      " 'DER_deltaeta_jet_jet' 'DER_mass_jet_jet' 'DER_prodeta_jet_jet'\n",
      " 'DER_deltar_tau_lep' 'DER_pt_tot' 'DER_sum_pt' 'DER_pt_ratio_lep_tau'\n",
      " 'DER_met_phi_centrality' 'DER_lep_eta_centrality' 'PRI_tau_pt'\n",
      " 'PRI_tau_eta' 'PRI_tau_phi' 'PRI_lep_pt' 'PRI_lep_eta' 'PRI_lep_phi'\n",
      " 'PRI_met' 'PRI_met_phi' 'PRI_met_sumet' 'PRI_jet_leading_pt'\n",
      " 'PRI_jet_leading_eta' 'PRI_jet_leading_phi' 'PRI_jet_subleading_pt'\n",
      " 'PRI_jet_subleading_eta' 'PRI_jet_subleading_phi' 'PRI_jet_all_pt']\n",
      "Remaining features for subset 1: ['DER_mass_MMC' 'DER_mass_transverse_met_lep' 'DER_mass_vis' 'DER_pt_h'\n",
      " 'DER_deltar_tau_lep' 'DER_pt_tot' 'DER_sum_pt' 'DER_pt_ratio_lep_tau'\n",
      " 'DER_met_phi_centrality' 'PRI_tau_pt' 'PRI_tau_eta' 'PRI_tau_phi'\n",
      " 'PRI_lep_pt' 'PRI_lep_eta' 'PRI_lep_phi' 'PRI_met' 'PRI_met_phi'\n",
      " 'PRI_met_sumet' 'PRI_jet_leading_pt' 'PRI_jet_leading_eta'\n",
      " 'PRI_jet_leading_phi' 'PRI_jet_all_pt']\n",
      "Remaining features for subset 0: ['DER_mass_MMC' 'DER_mass_transverse_met_lep' 'DER_mass_vis' 'DER_pt_h'\n",
      " 'DER_deltar_tau_lep' 'DER_pt_tot' 'DER_sum_pt' 'DER_pt_ratio_lep_tau'\n",
      " 'DER_met_phi_centrality' 'PRI_tau_pt' 'PRI_tau_eta' 'PRI_tau_phi'\n",
      " 'PRI_lep_pt' 'PRI_lep_eta' 'PRI_lep_phi' 'PRI_met' 'PRI_met_phi'\n",
      " 'PRI_met_sumet']\n"
     ]
    }
   ],
   "source": [
    "# Splitting the dataset based on the value of PRI_jet_num and \n",
    "# removing undefined features for the corresponding subsets\n",
    "ss0_tX, ss0_y, ss1_tX, ss1_y, ss2_tX, ss2_y, ss3_tX, ss3_y, labels_feat = split_subsets(tX, y,labels_feature)"
   ]
  },
  {
   "cell_type": "code",
   "execution_count": 5,
   "metadata": {
    "scrolled": true
   },
   "outputs": [
    {
     "name": "stdout",
     "output_type": "stream",
     "text": [
      "size of the dataset with (99913, 18) and without (94109, 18) the outliers\n",
      "Number of sample suppressed ouside 3 std: 5804\n",
      "size of the dataset with (77544, 22) and without (70577, 22) the outliers\n",
      "Number of sample suppressed ouside 3 std: 6967\n",
      "size of the dataset with (50379, 29) and without (43060, 29) the outliers\n",
      "Number of sample suppressed ouside 3 std: 7319\n",
      "size of the dataset with (22164, 29) and without (18922, 29) the outliers\n",
      "Number of sample suppressed ouside 3 std: 3242\n"
     ]
    }
   ],
   "source": [
    "# Subset feature replacemnet of DET_mass_MMC by median of defined values\n",
    "ss0_tX, ss0_y = replace_undef_feat(ss0_tX,ss0_y,method = 'median')\n",
    "ss1_tX, ss1_y = replace_undef_feat(ss1_tX,ss1_y,method = 'median')\n",
    "ss2_tX, ss2_y = replace_undef_feat(ss2_tX,ss2_y,method = 'median')\n",
    "ss3_tX, ss3_y = replace_undef_feat(ss3_tX,ss3_y,method = 'median')\n",
    "\n",
    "ss0_tX_outliers, ss0_y_outliers = outliers_suppresion(ss0_tX, ss0_y, 3)\n",
    "ss1_tX_outliers, ss1_y_outliers = outliers_suppresion(ss1_tX, ss1_y, 3)\n",
    "ss2_tX_outliers, ss2_y_outliers = outliers_suppresion(ss2_tX, ss2_y, 3)\n",
    "ss3_tX_outliers, ss3_y_outliers = outliers_suppresion(ss3_tX, ss3_y, 3)\n",
    "\n"
   ]
  },
  {
   "cell_type": "code",
   "execution_count": 6,
   "metadata": {},
   "outputs": [],
   "source": [
    "ss_tX = ss2_tX_outliers\n",
    "ss_y = ss2_y_outliers\n"
   ]
  },
  {
   "cell_type": "code",
   "execution_count": null,
   "metadata": {},
   "outputs": [
    {
     "name": "stdout",
     "output_type": "stream",
     "text": [
      "Number of remaining samples before start cross val : 43060\n",
      "Proportion of Bosons in all train set : 50.833720390153275 %\n",
      "Proportion of Bosons in test fold 1: 50.824431026474684 %\n"
     ]
    }
   ],
   "source": [
    "lambdas = np.logspace(-3, 0, 50)\n",
    "degrees = np.linspace(5,15,11, dtype=int)\n",
    "\n",
    "loss_tr = []\n",
    "loss_te = []  \n",
    "w = []\n",
    "accuracy = []\n",
    "\n",
    "for deg in (degrees):\n",
    "    loss_tr_tmp, loss_te_tmp, w_tmp, acc_tmp = cross_validation_demo(ss_y, ss_tX, deg, seed = 5, k_fold = 5, class_distribution = False, error = 'rmse', method = 'rr',hyperparams=[lambdas])\n",
    "    loss_tr.append(loss_tr_tmp)\n",
    "    loss_te.append(loss_te_tmp)\n",
    "    w.append(w_tmp)\n",
    "    accuracy.append(acc_tmp)\n",
    "    result_crossval(loss_tr_tmp,loss_te_tmp,deg)\n",
    "    result_crossval_accuracy(acc_tmp,deg)\n",
    "    \n",
    "    "
   ]
  },
  {
   "cell_type": "code",
   "execution_count": null,
   "metadata": {},
   "outputs": [],
   "source": []
  },
  {
   "cell_type": "code",
   "execution_count": null,
   "metadata": {},
   "outputs": [],
   "source": []
  },
  {
   "cell_type": "code",
   "execution_count": null,
   "metadata": {},
   "outputs": [],
   "source": []
  },
  {
   "cell_type": "code",
   "execution_count": null,
   "metadata": {},
   "outputs": [],
   "source": []
  },
  {
   "cell_type": "code",
   "execution_count": null,
   "metadata": {},
   "outputs": [],
   "source": []
  },
  {
   "cell_type": "code",
   "execution_count": null,
   "metadata": {},
   "outputs": [],
   "source": []
  },
  {
   "cell_type": "code",
   "execution_count": null,
   "metadata": {},
   "outputs": [],
   "source": []
  },
  {
   "cell_type": "code",
   "execution_count": null,
   "metadata": {},
   "outputs": [],
   "source": []
  },
  {
   "cell_type": "code",
   "execution_count": null,
   "metadata": {},
   "outputs": [],
   "source": []
  },
  {
   "cell_type": "code",
   "execution_count": null,
   "metadata": {},
   "outputs": [],
   "source": []
  },
  {
   "cell_type": "code",
   "execution_count": null,
   "metadata": {},
   "outputs": [],
   "source": []
  },
  {
   "cell_type": "code",
   "execution_count": null,
   "metadata": {},
   "outputs": [],
   "source": []
  },
  {
   "cell_type": "code",
   "execution_count": null,
   "metadata": {},
   "outputs": [],
   "source": []
  },
  {
   "cell_type": "code",
   "execution_count": null,
   "metadata": {},
   "outputs": [],
   "source": []
  },
  {
   "cell_type": "code",
   "execution_count": null,
   "metadata": {},
   "outputs": [],
   "source": []
  },
  {
   "cell_type": "code",
   "execution_count": null,
   "metadata": {},
   "outputs": [],
   "source": []
  }
 ],
 "metadata": {
  "kernelspec": {
   "display_name": "Python 3",
   "language": "python",
   "name": "python3"
  },
  "language_info": {
   "codemirror_mode": {
    "name": "ipython",
    "version": 3
   },
   "file_extension": ".py",
   "mimetype": "text/x-python",
   "name": "python",
   "nbconvert_exporter": "python",
   "pygments_lexer": "ipython3",
   "version": "3.6.8"
  }
 },
 "nbformat": 4,
 "nbformat_minor": 2
}
