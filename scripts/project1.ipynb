{
 "cells": [
  {
   "cell_type": "code",
   "execution_count": 92,
   "metadata": {},
   "outputs": [
    {
     "name": "stdout",
     "output_type": "stream",
     "text": [
      "The autoreload extension is already loaded. To reload it, use:\n",
      "  %reload_ext autoreload\n"
     ]
    }
   ],
   "source": [
    "# Useful starting lines\n",
    "%matplotlib inline\n",
    "import numpy as np\n",
    "import matplotlib.pyplot as plt\n",
    "from datetime import datetime\n",
    "from proj1_helpers import *\n",
    "from implementations import * \n",
    "import os\n",
    "%load_ext autoreload\n",
    "%autoreload 2"
   ]
  },
  {
   "cell_type": "markdown",
   "metadata": {},
   "source": [
    "## Load the training data into feature matrix, class labels, and event ids:"
   ]
  },
  {
   "cell_type": "code",
   "execution_count": 5,
   "metadata": {},
   "outputs": [],
   "source": [
    "DATA_TRAIN_PATH = os.path.dirname(os.getcwd()) + '/data/train.csv' # TODO: download train data and supply path here \n",
    "y, tX, ids = load_csv_data(DATA_TRAIN_PATH) # labels/predictions, id of each sample, tX - 30 features of each sample (float)"
   ]
  },
  {
   "cell_type": "code",
   "execution_count": 23,
   "metadata": {},
   "outputs": [],
   "source": [
    "y_explore, tX_explore, ids_explore = load_csv_data(DATA_TRAIN_PATH,sub_sample = True)"
   ]
  },
  {
   "cell_type": "markdown",
   "metadata": {},
   "source": [
    "## Data Exploration"
   ]
  },
  {
   "cell_type": "code",
   "execution_count": 7,
   "metadata": {},
   "outputs": [
    {
     "name": "stdout",
     "output_type": "stream",
     "text": [
      "Number of samples in train data set: 250000\n",
      "Initial number of features in train data set : 30\n"
     ]
    }
   ],
   "source": [
    "num_samples = len(y)\n",
    "num_features0 = tX.shape[1]\n",
    "\n",
    "print(\"Number of samples in train data set: {}\".format(num_samples))\n",
    "print(\"Initial number of features in train data set : {}\".format(num_features0))"
   ]
  },
  {
   "cell_type": "code",
   "execution_count": 8,
   "metadata": {
    "scrolled": true
   },
   "outputs": [
    {
     "name": "stdout",
     "output_type": "stream",
     "text": [
      "Number of Nan values in train data set : 0\n",
      "Number of Nan values in train data set : 0\n"
     ]
    }
   ],
   "source": [
    "print(\"Number of Nan values in train data set : {}\".format(np.argwhere(np.isnan(tX)).shape[0]))\n",
    "print(\"Number of Nan values in train data set : {}\".format(np.count_nonzero(np.where(tX == np.nan, 1,0))))"
   ]
  },
  {
   "cell_type": "code",
   "execution_count": 9,
   "metadata": {
    "scrolled": true
   },
   "outputs": [
    {
     "data": {
      "text/plain": [
       "dtype('float64')"
      ]
     },
     "execution_count": 9,
     "metadata": {},
     "output_type": "execute_result"
    }
   ],
   "source": [
    "tX.dtype"
   ]
  },
  {
   "cell_type": "code",
   "execution_count": 10,
   "metadata": {},
   "outputs": [
    {
     "data": {
      "image/png": "[encoded data removed]",
      "text/plain": [
       "<Figure size 432x288 with 1 Axes>"
      ]
     },
     "metadata": {
      "needs_background": "light"
     },
     "output_type": "display_data"
    }
   ],
   "source": [
    "# Exploration of distributions\n",
    "plt.hist(tX_explore[:,0])\n",
    "plt.show()"
   ]
  },
  {
   "cell_type": "markdown",
   "metadata": {},
   "source": [
    "## Feature Engineering"
   ]
  },
  {
   "cell_type": "markdown",
   "metadata": {},
   "source": [
    "### *Dealing with undefined values* ###"
   ]
  },
  {
   "cell_type": "code",
   "execution_count": 104,
   "metadata": {},
   "outputs": [
    {
     "name": "stdout",
     "output_type": "stream",
     "text": [
      "Subset 0 contains 99913 samples \n",
      "Subset 1 contains 77544 samples \n",
      "Subset 2 contains 50379 samples \n",
      "Subset 3 contains 22164 samples \n",
      "(99913, 19)\n",
      "(77544, 22)\n"
     ]
    }
   ],
   "source": [
    "# Splitting the dataset based on the value of PRI_jet_num and \n",
    "# removing undefined features for the corresponding subsets\n",
    "\n",
    "ss0_tX, ss0_y, ss1_tX, ss1_y, ss2_tX, ss2_y, ss3_tX, ss3_y = split_subsets(tX, y)\n",
    "\n",
    "print(ss0_tX.shape)\n",
    "print(ss1_tX.shape)"
   ]
  },
  {
   "cell_type": "code",
   "execution_count": 105,
   "metadata": {},
   "outputs": [
    {
     "name": "stdout",
     "output_type": "stream",
     "text": [
      "Number of remaining undefined values in subset 0 : 26123\n",
      "Feature repartition of these values : [[    0]\n",
      " [26123]]\n",
      "Number of remaining undefined values in subset 1 : 7562\n",
      "Feature repartition of these values : [[   0]\n",
      " [7562]]\n",
      "Number of remaining undefined values in subset 2 : 2952\n",
      "Feature repartition of these values : [[   0]\n",
      " [2952]]\n",
      "Number of remaining undefined values in subset 3 : 1477\n",
      "Feature repartition of these values : [[   0]\n",
      " [1477]]\n"
     ]
    }
   ],
   "source": [
    "print(\"Number of remaining undefined values in subset 0 : {}\".format(np.count_nonzero(ss0_tX == -999.0)))\n",
    "undefined_indices = np.argwhere(ss0_tX == -999.0)\n",
    "\n",
    "unique_elements, counts_elements = np.unique(undefined_indices[:,1], return_counts=True)\n",
    "print(\"Feature repartition of these values : {}\".format(np.asarray((unique_elements, counts_elements))))\n",
    "\n",
    "\n",
    "print(\"Number of remaining undefined values in subset 1 : {}\".format(np.count_nonzero(ss1_tX == -999.0)))\n",
    "undefined_indices = np.argwhere(ss1_tX == -999.0)\n",
    "\n",
    "unique_elements, counts_elements = np.unique(undefined_indices[:,1], return_counts=True)\n",
    "print(\"Feature repartition of these values : {}\".format(np.asarray((unique_elements, counts_elements))))\n",
    "\n",
    "print(\"Number of remaining undefined values in subset 2 : {}\".format(np.count_nonzero(ss2_tX == -999.0)))\n",
    "undefined_indices = np.argwhere(ss2_tX == -999.0)\n",
    "\n",
    "unique_elements, counts_elements = np.unique(undefined_indices[:,1], return_counts=True)\n",
    "print(\"Feature repartition of these values : {}\".format(np.asarray((unique_elements, counts_elements))))\n",
    "\n",
    "print(\"Number of remaining undefined values in subset 3 : {}\".format(np.count_nonzero(ss3_tX == -999.0)))\n",
    "undefined_indices = np.argwhere(ss3_tX == -999.0)\n",
    "\n",
    "unique_elements, counts_elements = np.unique(undefined_indices[:,1], return_counts=True)\n",
    "print(\"Feature repartition of these values : {}\".format(np.asarray((unique_elements, counts_elements))))"
   ]
  },
  {
   "cell_type": "markdown",
   "metadata": {},
   "source": [
    "Thus all remaining undefined values belong to the first feature **DER_mass_MMC**."
   ]
  },
  {
   "cell_type": "markdown",
   "metadata": {},
   "source": [
    "### *Feature augmentation* ###"
   ]
  },
  {
   "cell_type": "code",
   "execution_count": 16,
   "metadata": {},
   "outputs": [],
   "source": [
    "# Chose the degree of features \n",
    "degree = 1 \n",
    "tX_poly = build_poly(tX_explore,degree)"
   ]
  },
  {
   "cell_type": "code",
   "execution_count": 17,
   "metadata": {},
   "outputs": [],
   "source": [
    "# Standardize data\n",
    "tX_sd = standardize(tX_poly)"
   ]
  },
  {
   "cell_type": "markdown",
   "metadata": {},
   "source": [
    "## Model selection and Optimisation"
   ]
  },
  {
   "cell_type": "code",
   "execution_count": 18,
   "metadata": {},
   "outputs": [],
   "source": [
    "#"
   ]
  },
  {
   "cell_type": "markdown",
   "metadata": {},
   "source": [
    "### Least Square"
   ]
  },
  {
   "cell_type": "code",
   "execution_count": 20,
   "metadata": {},
   "outputs": [
    {
     "name": "stdout",
     "output_type": "stream",
     "text": [
      "Least squares: loss=2.0\n",
      "Least squares: w=[nan nan nan nan nan nan nan nan nan nan nan nan nan nan nan nan nan nan\n",
      " nan nan nan nan nan nan nan nan nan nan nan nan nan]\n"
     ]
    }
   ],
   "source": [
    "w_ls, loss_ls = least_squares(y_explore, tX_sd)"
   ]
  },
  {
   "cell_type": "code",
   "execution_count": 14,
   "metadata": {},
   "outputs": [
    {
     "ename": "NameError",
     "evalue": "name 'loss_ls' is not defined",
     "output_type": "error",
     "traceback": [
      "\u001b[0;31m---------------------------------------------------------------------------\u001b[0m",
      "\u001b[0;31mNameError\u001b[0m                                 Traceback (most recent call last)",
      "\u001b[0;32m<ipython-input-14-f7579d214955>\u001b[0m in \u001b[0;36m<module>\u001b[0;34m\u001b[0m\n\u001b[0;32m----> 1\u001b[0;31m \u001b[0mprint\u001b[0m\u001b[0;34m(\u001b[0m\u001b[0;34m'Percentage of correct classification on train set : {}'\u001b[0m\u001b[0;34m.\u001b[0m\u001b[0mformat\u001b[0m\u001b[0;34m(\u001b[0m\u001b[0mloss_ls\u001b[0m\u001b[0;34m)\u001b[0m\u001b[0;34m)\u001b[0m\u001b[0;34m\u001b[0m\u001b[0;34m\u001b[0m\u001b[0m\n\u001b[0m",
      "\u001b[0;31mNameError\u001b[0m: name 'loss_ls' is not defined"
     ]
    }
   ],
   "source": [
    "print('Percentage of correct classification on train set : {}'.format(loss_ls))"
   ]
  },
  {
   "cell_type": "markdown",
   "metadata": {},
   "source": [
    "### Least Square Gradient Descent"
   ]
  },
  {
   "cell_type": "code",
   "execution_count": null,
   "metadata": {},
   "outputs": [],
   "source": [
    "initial_w = np.zeros(10)\n",
    "max_iters = 500\n",
    "gamma = 0.1"
   ]
  },
  {
   "cell_type": "code",
   "execution_count": null,
   "metadata": {},
   "outputs": [],
   "source": [
    "w_ls_GD, loss_ls_GD = least_squares_GD(y, tX_sd[:,:10], initial_w, max_iters, gamma)"
   ]
  },
  {
   "cell_type": "code",
   "execution_count": null,
   "metadata": {},
   "outputs": [],
   "source": [
    "print('Final class error on train data : {}'.format(loss_ls_GD))"
   ]
  },
  {
   "cell_type": "markdown",
   "metadata": {},
   "source": [
    "### Least Square Stochastic Gradient Descent"
   ]
  },
  {
   "cell_type": "code",
   "execution_count": null,
   "metadata": {},
   "outputs": [],
   "source": [
    "initial_w = np.zeros(3)\n",
    "max_iters = 500\n",
    "gamma = 0.1"
   ]
  },
  {
   "cell_type": "code",
   "execution_count": null,
   "metadata": {},
   "outputs": [],
   "source": [
    "w_ls_SGD, loss_ls_SGC = least_squares_SGD(y, tX[:,:3], initial_w, max_iters, gamma)"
   ]
  },
  {
   "cell_type": "markdown",
   "metadata": {},
   "source": [
    "### Ridge Regression"
   ]
  },
  {
   "cell_type": "code",
   "execution_count": null,
   "metadata": {},
   "outputs": [],
   "source": [
    "lambda_ = 0.1"
   ]
  },
  {
   "cell_type": "code",
   "execution_count": null,
   "metadata": {},
   "outputs": [],
   "source": [
    "w_rr, loss_rr = ridge_regression(y, tX, lambda_)"
   ]
  },
  {
   "cell_type": "markdown",
   "metadata": {},
   "source": [
    "### Logistic Regression"
   ]
  },
  {
   "cell_type": "code",
   "execution_count": null,
   "metadata": {},
   "outputs": [],
   "source": [
    "initial_w = np.zeros(3)\n",
    "max_iters = 500\n",
    "gamma = 0.1"
   ]
  },
  {
   "cell_type": "code",
   "execution_count": null,
   "metadata": {},
   "outputs": [],
   "source": [
    "logistic_regression(y, tX[:,:3], initial_w, max_iters, gamma)"
   ]
  },
  {
   "cell_type": "markdown",
   "metadata": {},
   "source": [
    "### Regularized Logistic Regression"
   ]
  },
  {
   "cell_type": "markdown",
   "metadata": {},
   "source": [
    "## Generate predictions and save ouput in csv format for submission:"
   ]
  },
  {
   "cell_type": "code",
   "execution_count": null,
   "metadata": {},
   "outputs": [],
   "source": [
    "DATA_TEST_PATH = os.path.dirname(os.getcwd()) + '/data/test.csv' # TODO: download train data and supply path here \n",
    "_, tX_test, ids_test = load_csv_data(DATA_TEST_PATH)"
   ]
  },
  {
   "cell_type": "code",
   "execution_count": null,
   "metadata": {},
   "outputs": [],
   "source": [
    "weights = w_ls\n",
    "tX_test = tX_test"
   ]
  },
  {
   "cell_type": "code",
   "execution_count": null,
   "metadata": {},
   "outputs": [],
   "source": [
    "OUTPUT_PATH = os.path.dirname(os.getcwd()) + '/data/' + str(datetime.now())# TODO: fill in desired name of output file for submission\n",
    "y_pred = predict_labels(weights, tX_test)\n",
    "create_csv_submission(ids_test, y_pred, OUTPUT_PATH)"
   ]
  }
 ],
 "metadata": {
  "anaconda-cloud": {},
  "kernelspec": {
   "display_name": "Python 3",
   "language": "python",
   "name": "python3"
  },
  "language_info": {
   "codemirror_mode": {
    "name": "ipython",
    "version": 3
   },
   "file_extension": ".py",
   "mimetype": "text/x-python",
   "name": "python",
   "nbconvert_exporter": "python",
   "pygments_lexer": "ipython3",
   "version": "3.6.8"
  }
 },
 "nbformat": 4,
 "nbformat_minor": 1
}
